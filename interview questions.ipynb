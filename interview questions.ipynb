{
 "cells": [
  {
   "attachments": {},
   "cell_type": "markdown",
   "metadata": {},
   "source": [
    "1. What is the type of the following: 1.0\n",
    "A) float\n",
    "B) int\n",
    "C) str\n",
    "\n",
    "Answer: float"
   ]
  },
  {
   "attachments": {},
   "cell_type": "markdown",
   "metadata": {},
   "source": [
    "2. What is the result of the following code segment: int(12.3)\n",
    "A) 12.3\n",
    "B) 12\n",
    "C) 13\n",
    "\n",
    "Answer: 12\n"
   ]
  },
  {
   "attachments": {},
   "cell_type": "markdown",
   "metadata": {},
   "source": [
    "3. What is the result of the following code segment: int(True)\n",
    "A) 1\n",
    "B) 0\n",
    "C) error\n",
    "\n",
    "Answer: 1"
   ]
  },
  {
   "attachments": {},
   "cell_type": "markdown",
   "metadata": {},
   "source": [
    "4. What code would turn the string “1” into an integer?\n",
    "A)str(1)\n",
    "B) int(\"1\")\n",
    "C) float(\"1\")\n",
    "\n",
    "Answer: int(\"1\")"
   ]
  },
  {
   "attachments": {},
   "cell_type": "markdown",
   "metadata": {},
   "source": [
    "5. Explain the //, %, and ** operators in Python.\n",
    "\n",
    "Ans: \n",
    "The // operator performs floor division. It will return the integer part of the result on division.\n",
    "\n",
    ">>> 7//2\n",
    "3\n",
    "\n",
    "Normal division would return 3.5 here.\n",
    "\n",
    "Similarly, ** performs exponentiation. a**b returns the value of a raised to the power b.\n",
    "\n",
    ">>> 2**10\n",
    "1024\n",
    "\n",
    "Finally, % is for modulus. This gives us the value left after the highest achievable division.\n",
    "\n",
    ">>> 13%7"
   ]
  },
  {
   "attachments": {},
   "cell_type": "markdown",
   "metadata": {},
   "source": [
    "6. What do you know about relational operators in Python.\n",
    "\n",
    "Ans :\n",
    "<     (less than)\n",
    ">     (Greater than)\n",
    "<=    (less than or equal to)\n",
    ">=    (Greater than or equal to)\n",
    "==    (equal to)\n",
    "!=    (not equal to)"
   ]
  },
  {
   "attachments": {},
   "cell_type": "markdown",
   "metadata": {},
   "source": [
    "7. What are assignment operators in Python?\n",
    "\n",
    "Ans :\n",
    "=     (assign)\n",
    "+=    (add and assign)\n",
    "-=    (subtract and assign)\n",
    "*=    (multiply and assign)\n",
    "/=    (divide and assign)\n",
    "%=    (modulus and assign)\n",
    "**=   (exponent and assign)\n",
    "//=   (floor-divide and assign)"
   ]
  },
  {
   "attachments": {},
   "cell_type": "markdown",
   "metadata": {},
   "source": [
    "8. What are logical operators in Python?\n",
    "\n",
    "Ans:\n",
    "We have three logical operators: and, or, not."
   ]
  },
  {
   "attachments": {},
   "cell_type": "markdown",
   "metadata": {},
   "source": [
    "9. What is pass in Python?\n",
    "\n",
    "Ans: Pass means, no-operation Python statement, or in other words it is a place holder in compound statement, where there should be a blank left and nothing has to be written there."
   ]
  },
  {
   "attachments": {},
   "cell_type": "markdown",
   "metadata": {},
   "source": [
    "10. What Does The Continue Do In Python? \n",
    "\n",
    "Ans: The continue is a jump statement in Python which moves the control to execute the next iteration in a loop leaving all the remaining instructions in the block unexecuted.\n",
    " \n",
    "The continue statement is applicable for both the “while” and “for” loops."
   ]
  },
  {
   "attachments": {},
   "cell_type": "markdown",
   "metadata": {},
   "source": [
    "11. When Should You Use The “Break” In Python? \n",
    "\n",
    "Ans: Python provides a break statement to exit from a loop. Whenever the break hits in the code, the control of the program immediately exits from the body of the loop.\n",
    " \n",
    "The break statement in a nested loop causes the control to exit from the inner iterative block."
   ]
  },
  {
   "attachments": {},
   "cell_type": "markdown",
   "metadata": {},
   "source": [
    "12. What Is The Difference Between Pass And Continue In Python? \n",
    "\n",
    "Ans: The continue statement makes the loop to resume from the next iteration.\n",
    " \n",
    "On the contrary, the pass statement instructs to do nothing, and the remainder of the code executes as usual."
   ]
  },
  {
   "attachments": {},
   "cell_type": "markdown",
   "metadata": {},
   "source": [
    "13. What Is A Built-In Function That Python Uses To Iterate Over A Number Sequence?\n",
    "\n",
    "ans: Range() generates a list of numbers, which is used to iterate over for loops.\n",
    "\n",
    "The range() function accompanies two sets of parameters.\n",
    " \n",
    "range(stop)\n",
    "stop: It is the no. of integers to generate and starts from zero. eg. range(3) == [0, 1, 2].\n",
    "range([start], stop[, step])\n",
    "Start: It is the starting no. of the sequence.\n",
    "Stop: It specifies the upper limit of the sequence.\n",
    "Step: It is the incrementing factor for generating the sequence.\n"
   ]
  },
  {
   "attachments": {},
   "cell_type": "markdown",
   "metadata": {},
   "source": [
    "14. How does For loop and While loop differ in Python and when do you choose to use them?\n",
    "\n",
    "ans: For loop is generally used to iterate through the elements of various collection types such as List, Tuple, Set, and Dictionary.\n",
    "\n",
    "While loop is the actual looping feature that is used in any other programming language. This is how Python differs in handling loops from the other programming languages."
   ]
  },
  {
   "attachments": {},
   "cell_type": "markdown",
   "metadata": {},
   "source": [
    "15. What are the advantages of using a for loop in Python?\n",
    "\n",
    "Ans: A for loop is a type of loop that executes a set of instructions repeatedly. It uses the following syntax: for x in range(y): do something\n",
    "\n",
    "This type of loop has the following properties:\n",
    "\n",
    "For loops are good because they can make your code more readable and easier to follow.\n",
    "They also make sure that certain instructions are executed at least one time."
   ]
  },
  {
   "attachments": {},
   "cell_type": "markdown",
   "metadata": {},
   "source": [
    "16. What are the disadvantages of using a for loop in Python?\n",
    "\n",
    "Ans: The for-loop is one of the most basic constructs in programming. However, this construct has its own disadvantages.\n",
    "\n",
    "If you don't know the upper-bound of your loop, you have to keep track of it by hand or break out of your loop early.\n",
    "You can't use a break statement to escape from a nested loop."
   ]
  },
  {
   "attachments": {},
   "cell_type": "markdown",
   "metadata": {},
   "source": [
    "17. What is lambda in Python?\n",
    "\n",
    "Ans: anonymous function means that a function is without a name. As we already know that def keyword is used to define the normal functions and the lambda keyword is used to create anonymous functions.\n",
    "\n",
    "     lambda arguments: expression"
   ]
  },
  {
   "attachments": {},
   "cell_type": "markdown",
   "metadata": {},
   "source": [
    "18. Mention what are the rules for local and global variables in Python?\n",
    "\n",
    "Ans: Local variables: If a variable is assigned a new value anywhere within the function's body, it's assumed to be local.\n",
    "\n",
    " \n",
    "Global variables: Those variables that are only referenced inside a function are implicitly global."
   ]
  },
  {
   "attachments": {},
   "cell_type": "markdown",
   "metadata": {},
   "source": [
    "19. What Is A Function In Python Programming?\n",
    "\n",
    "Ans:  A function is an object which represents a block of code and is a reusable entity. It brings modularity to a program and a higher degree of code reusability.\n",
    "\n",
    " \n",
    "Python has given us many built-in functions such as print() and provides the ability to create user-defined functions."
   ]
  },
  {
   "attachments": {},
   "cell_type": "markdown",
   "metadata": {},
   "source": [
    "20. What Is The Return Keyword Used For In Python? \n",
    "\n",
    "Ans: The purpose of a function is to receive the inputs and return some output.\n",
    "\n",
    "The return is a Python statement which we can use in a function for sending a value back to its caller.\n"
   ]
  }
 ],
 "metadata": {
  "language_info": {
   "name": "python"
  },
  "orig_nbformat": 4
 },
 "nbformat": 4,
 "nbformat_minor": 2
}
